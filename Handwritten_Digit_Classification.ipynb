{
 "cells": [
  {
   "cell_type": "markdown",
   "id": "2b54ab5d-ae14-4681-b352-2eb782b4bfa8",
   "metadata": {},
   "source": [
    "## Import All The Libraries "
   ]
  },
  {
   "cell_type": "code",
   "execution_count": 89,
   "id": "7178f57f-ff8d-486e-a62e-cfc2fb681c0d",
   "metadata": {},
   "outputs": [],
   "source": [
    "import pickle\n",
    "import numpy as np\n",
    "import matplotlib.pyplot as plt\n",
    "from teaspoon.ML import feature_functions as Ff\n",
    "from gtda.diagrams import PersistenceEntropy\n",
    "from gtda.diagrams import Scaler\n",
    "from sklearn.pipeline import Pipeline\n",
    "from gtda.diagrams import Amplitude\n",
    "from sklearn.pipeline import make_pipeline, make_union\n",
    "from gtda.diagrams import PersistenceEntropy\n",
    "from gtda.images import HeightFiltration\n",
    "from sklearn.ensemble import RandomForestClassifier\n",
    "from sklearn.metrics import confusion_matrix, ConfusionMatrixDisplay\n",
    "from gtda.images import Binarizer\n",
    "from gtda.homology import CubicalPersistence\n",
    "from gtda.images import RadialFiltration\n",
    "from sklearn.metrics import accuracy_score"
   ]
  },
  {
   "cell_type": "markdown",
   "id": "c34f4f80-d053-4eda-a12a-dd2d16bfa3d4",
   "metadata": {},
   "source": [
    "## Split The Dataset Into Training Set And Test Set"
   ]
  },
  {
   "cell_type": "code",
   "execution_count": 148,
   "id": "861edc07-fde1-44a0-b9fa-515626172cbc",
   "metadata": {
    "scrolled": true
   },
   "outputs": [
    {
     "name": "stdout",
     "output_type": "stream",
     "text": [
      "X_train shape: (250, 28, 28), y_train shape: (250,)\n",
      "X_test shape: (60, 28, 28), y_test shape: (60,)\n"
     ]
    }
   ],
   "source": [
    "n_samples = 1000 # number of loaded MNIST handwritten digits\n",
    "\n",
    "n_features = 32 # number of features per image\n",
    "image_size = 28 # MNIST handwritten digits images are 28x28\n",
    "data_X = np.load('X_' + str(n_samples) + '.npy', allow_pickle=True)\n",
    "data_y = np.load('y_'  + str(n_samples) + '.npy', allow_pickle=True)\n",
    "\n",
    "from sklearn.model_selection import train_test_split\n",
    "train_size, test_size = 250, 60\n",
    "\n",
    "\n",
    "y = data_y\n",
    "X = data_X.reshape((-1, 28, 28))\n",
    "\n",
    "X_train, X_test, y_train, y_test = train_test_split(\n",
    "    X, y, train_size=train_size, test_size=test_size, stratify=y, random_state=666\n",
    ")\n",
    "\n",
    "print(f\"X_train shape: {X_train.shape}, y_train shape: {y_train.shape}\")\n",
    "print(f\"X_test shape: {X_test.shape}, y_test shape: {y_test.shape}\")"
   ]
  },
  {
   "cell_type": "markdown",
   "id": "a6965228-d4e4-426f-b06f-171638497efb",
   "metadata": {},
   "source": [
    "## Create Function To Get More Features"
   ]
  },
  {
   "cell_type": "code",
   "execution_count": 149,
   "id": "adffe2a6-9c5a-49da-8f4b-270f9549ca3c",
   "metadata": {},
   "outputs": [],
   "source": [
    "def get_features(transformer, metrix, X, carlsoon_func):\n",
    "    \n",
    "    transformed = transformer.fit_transform(X)\n",
    "    scaler = Scaler()\n",
    "    transformed = scaler.fit_transform(transformed)\n",
    "\n",
    "    # Persistence entropy\n",
    "    persistence_entropy = PersistenceEntropy(normalize=False)\n",
    "    # calculate topological feature matrix\n",
    "    X_features = persistence_entropy.fit_transform(transformed)\n",
    "\n",
    "    # Carlsoon Coordinates\n",
    "\n",
    "    Arr = transformed[1]\n",
    "    a1=Arr[Arr[:,2]==0].shape[0]\n",
    "    a2=Arr[Arr[:,2]==1].shape[0]\n",
    "    Arr_dim_0 = transformed[:,0:a1,0:2]\n",
    "    Arr_dim_1 = transformed[:,a1:a1+a2,0:2]\n",
    "    \n",
    "    FN = 5\n",
    "    my_list = [Arr_dim_0, Arr_dim_1]\n",
    "\n",
    "    # compute feature matrix\n",
    "    for i in range(0,2):\n",
    "        FeatureMatrix, TotalNumComb, CombList = Ff.F_CCoordinates(my_list[i], FN)\n",
    "        X_features = np.concatenate((X_features, FeatureMatrix[carlsoon_func]),axis=1)\n",
    "\n",
    "    amplitude = Amplitude(**metrix)\n",
    "    X_features = np.concatenate([X_features, amplitude.fit_transform(transformed)], axis=1)\n",
    "\n",
    "    return X_features"
   ]
  },
  {
   "cell_type": "code",
   "execution_count": 150,
   "id": "9c812085-5f64-4f56-abb5-ae7c5d2333af",
   "metadata": {},
   "outputs": [],
   "source": [
    "def get_features_for_different_values(direction_list, center_list, metric_list, X, carlsoon_func=-1):\n",
    "\n",
    "    radial_filtration = lambda r: Pipeline([\n",
    "        (\"binarizer\", Binarizer(threshold=0.4, n_jobs=-1)),\n",
    "        (\"filtration\", RadialFiltration(center=np.array(r), n_jobs=-1)),\n",
    "        (\"diagram\", CubicalPersistence(n_jobs=-1)),\n",
    "    ])\n",
    "\n",
    "    height_filtration = lambda d: Pipeline([\n",
    "        (\"binarizer\", Binarizer(threshold=0.4, n_jobs=-1)),\n",
    "        (\"filtration\", HeightFiltration(direction=np.array(d), n_jobs=-1)),\n",
    "        (\"diagram\", CubicalPersistence(n_jobs=-1)),\n",
    "    ])\n",
    "\n",
    "    results_1 = []\n",
    "    for direction, metrix in zip(direction_list, metric_list):\n",
    "        transformer = height_filtration(direction)\n",
    "        X_features = get_features(transformer, metrix, X, carlsoon_func)\n",
    "        results_1.append(X_features)\n",
    "\n",
    "    results_2 = []\n",
    "    for radius in center_list:\n",
    "        transformer = radial_filtration(radius)\n",
    "        X_features = get_features(transformer, metrix, X, carlsoon_func)\n",
    "        results_2.append(X_features)\n",
    "\n",
    "        \n",
    "\n",
    "    results_1 = np.concatenate(results_1, axis=1)\n",
    "    results_2 = np.concatenate(results_2, axis=1)\n",
    "\n",
    "    return np.concatenate([results_1, results_2], axis=1)"
   ]
  },
  {
   "cell_type": "code",
   "execution_count": 151,
   "id": "03f08fb5-d20e-42bb-810a-b00d7553dfdf",
   "metadata": {},
   "outputs": [],
   "source": [
    "# direction_list = [[1, 0], [1, 1], [0, 1], [-1, 1], [-1, 0], [-1, -1], [0, -1], [1, -1]]\n",
    "direction_list = [[1, 1], [-1, -1]]\n",
    "\n",
    "center_list = [\n",
    "    [13, 6],\n",
    "    [6, 13],\n",
    "    [13, 13],\n",
    "    [20, 13],\n",
    "    [13, 20],\n",
    "    [6, 6],\n",
    "    [6, 20],\n",
    "    [20, 6],\n",
    "    [0, 0],\n",
    "    [20, 0],\n",
    "    [0, 20]\n",
    "]\n",
    "\n",
    "# Listing all metrics we want to use to extract diagram amplitudes\n",
    "metric_list = [\n",
    "    {\"metric\": \"bottleneck\", \"metric_params\": {}},\n",
    "    {\"metric\": \"wasserstein\", \"metric_params\": {\"p\": 1}},\n",
    "    {\"metric\": \"wasserstein\", \"metric_params\": {\"p\": 2}},\n",
    "    {\"metric\": \"landscape\", \"metric_params\": {\"p\": 1, \"n_layers\": 1, \"n_bins\": 100}},\n",
    "    {\"metric\": \"landscape\", \"metric_params\": {\"p\": 1, \"n_layers\": 2, \"n_bins\": 100}},\n",
    "    {\"metric\": \"landscape\", \"metric_params\": {\"p\": 2, \"n_layers\": 1, \"n_bins\": 100}},\n",
    "    {\"metric\": \"landscape\", \"metric_params\": {\"p\": 2, \"n_layers\": 2, \"n_bins\": 100}},\n",
    "    {\"metric\": \"betti\", \"metric_params\": {\"p\": 1, \"n_bins\": 100}},\n",
    "    {\"metric\": \"betti\", \"metric_params\": {\"p\": 2, \"n_bins\": 100}},\n",
    "    {\"metric\": \"heat\", \"metric_params\": {\"p\": 1, \"sigma\": 1.6, \"n_bins\": 100}},\n",
    "    {\"metric\": \"heat\", \"metric_params\": {\"p\": 1, \"sigma\": 3.2, \"n_bins\": 100}},\n",
    "    {\"metric\": \"heat\", \"metric_params\": {\"p\": 2, \"sigma\": 1.6, \"n_bins\": 100}},\n",
    "    {\"metric\": \"heat\", \"metric_params\": {\"p\": 2, \"sigma\": 3.2, \"n_bins\": 100}},\n",
    "]"
   ]
  },
  {
   "cell_type": "markdown",
   "id": "0a0f4ada-802c-4c41-8f30-f9fa5ce0170d",
   "metadata": {},
   "source": [
    "## Create Features"
   ]
  },
  {
   "cell_type": "code",
   "execution_count": 152,
   "id": "f193c1b7-1a20-4e7c-ba0e-8e453a316ef1",
   "metadata": {},
   "outputs": [],
   "source": [
    "# Transform the images into features\n",
    "\n",
    "X_train_tda = get_features_for_different_values(direction_list, center_list, metric_list, X_train)\n",
    "X_test_tda = get_features_for_different_values(direction_list, center_list, metric_list, X_test)"
   ]
  },
  {
   "cell_type": "markdown",
   "id": "000ef282-afa8-409f-81c9-e8ab205e08fa",
   "metadata": {},
   "source": [
    "## Save the dataset"
   ]
  },
  {
   "cell_type": "code",
   "execution_count": 160,
   "id": "27becf62-45fc-4050-b64b-d4b5c31d60d9",
   "metadata": {},
   "outputs": [
    {
     "name": "stdout",
     "output_type": "stream",
     "text": [
      "Data saved successfully.\n"
     ]
    }
   ],
   "source": [
    "# Save the data to a pickle file\n",
    "with open('X_train_tda.pkl', 'wb') as f, \\\n",
    "    open('X_test_tda.pkl', 'wb') as f1:\n",
    "        pickle.dump(X_train_tda, f)\n",
    "        pickle.dump(X_test_tda, f1)\n",
    "\n",
    "with open('y_train.pkl', 'wb') as f, \\\n",
    "    open('y_test.pkl', 'wb') as f1:\n",
    "        pickle.dump(y_train, f)\n",
    "        pickle.dump(y_test, f1)\n",
    "\n",
    "print(\"Data saved successfully.\")"
   ]
  },
  {
   "cell_type": "code",
   "execution_count": 154,
   "id": "556a5893-c76e-4c11-a169-271ad7ee5432",
   "metadata": {},
   "outputs": [
    {
     "data": {
      "text/plain": [
       "(250, 182)"
      ]
     },
     "execution_count": 154,
     "metadata": {},
     "output_type": "execute_result"
    }
   ],
   "source": [
    "# Shape of the X_train\n",
    "\n",
    "X_train_tda.shape"
   ]
  },
  {
   "cell_type": "code",
   "execution_count": 155,
   "id": "8f37a1ee-0cfb-4919-9bc2-c206ea715db6",
   "metadata": {},
   "outputs": [
    {
     "data": {
      "text/plain": [
       "(60, 182)"
      ]
     },
     "execution_count": 155,
     "metadata": {},
     "output_type": "execute_result"
    }
   ],
   "source": [
    "# Shape of the X_train\n",
    "\n",
    "X_test_tda.shape"
   ]
  },
  {
   "cell_type": "markdown",
   "id": "916f2b05-76f1-45a0-a168-97698ae2e82d",
   "metadata": {},
   "source": [
    "## Create RandomForestClassifier"
   ]
  },
  {
   "cell_type": "code",
   "execution_count": 156,
   "id": "88a211a3-2bf5-47f9-ae64-66e2a324aea6",
   "metadata": {},
   "outputs": [],
   "source": [
    "rf = RandomForestClassifier(random_state=12)\n",
    "rf.fit(X_train_tda, y_train)\n",
    "\n",
    "# Predict the labels for the test set\n",
    "y_pred = rf.predict(X_test_tda)"
   ]
  },
  {
   "cell_type": "markdown",
   "id": "d53b75f2-8b36-4390-8f63-bbf55901f960",
   "metadata": {},
   "source": [
    "## Evaluate The Accuracy"
   ]
  },
  {
   "cell_type": "code",
   "execution_count": 157,
   "id": "70052ac5-966b-462f-bee5-02d56b7ed130",
   "metadata": {},
   "outputs": [
    {
     "name": "stdout",
     "output_type": "stream",
     "text": [
      "Accuracy: 0.93\n"
     ]
    }
   ],
   "source": [
    "# Evaluate the model\n",
    "accuracy = accuracy_score(y_test, y_pred)\n",
    "\n",
    "print(f\"Accuracy: {accuracy:.2f}\")"
   ]
  },
  {
   "cell_type": "markdown",
   "id": "7bef5e91-1967-41d6-ab9e-ef601527411e",
   "metadata": {},
   "source": [
    "## Display The Confusion Matrix"
   ]
  },
  {
   "cell_type": "code",
   "execution_count": 158,
   "id": "781939e8-2153-465f-b4a8-0c9c43bfad2e",
   "metadata": {
    "scrolled": true
   },
   "outputs": [
    {
     "data": {
      "text/plain": [
       "<sklearn.metrics._plot.confusion_matrix.ConfusionMatrixDisplay at 0x7fe9b9200b60>"
      ]
     },
     "execution_count": 158,
     "metadata": {},
     "output_type": "execute_result"
    },
    {
     "data": {
      "image/png": "[encoded data removed]",
      "text/plain": [
       "<Figure size 640x480 with 2 Axes>"
      ]
     },
     "metadata": {},
     "output_type": "display_data"
    }
   ],
   "source": [
    "# Compute the confusion matrix\n",
    "conf_matrix = confusion_matrix(y_test, y_pred)\n",
    "\n",
    "# Get the class labels from the model\n",
    "class_labels = rf.classes_  \n",
    "\n",
    "# Display the confusion matrix with labels\n",
    "ConfusionMatrixDisplay(conf_matrix, display_labels=class_labels).plot(cmap='Blues')"
   ]
  },
  {
   "cell_type": "markdown",
   "id": "06000389-3604-4273-aabd-b461563fdbb5",
   "metadata": {},
   "source": [
    "#### Summary:\n",
    "\n",
    "- We can see that `2` and `7` are the most confused because of its topology."
   ]
  }
 ],
 "metadata": {
  "kernelspec": {
   "display_name": "Python 3 (ipykernel)",
   "language": "python",
   "name": "python3"
  },
  "language_info": {
   "codemirror_mode": {
    "name": "ipython",
    "version": 3
   },
   "file_extension": ".py",
   "mimetype": "text/x-python",
   "name": "python",
   "nbconvert_exporter": "python",
   "pygments_lexer": "ipython3",
   "version": "3.12.7"
  }
 },
 "nbformat": 4,
 "nbformat_minor": 5
}
